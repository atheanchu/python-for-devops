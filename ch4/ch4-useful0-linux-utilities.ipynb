{
 "cells": [
  {
   "cell_type": "markdown",
   "metadata": {},
   "source": [
    "# Useful Linux Utilities\n",
    "\n",
    "This chapter will go through some common patterns in the shell and will include some useful Python commands that should enhance the ability to interact with a machine. "
   ]
  },
  {
   "cell_type": "markdown",
   "metadata": {},
   "source": [
    "## Mixing Python with Bash and ZSH\n"
   ]
  },
  {
   "cell_type": "markdown",
   "metadata": {},
   "source": [
    "### Random Password Generator\n"
   ]
  },
  {
   "cell_type": "code",
   "execution_count": 4,
   "metadata": {},
   "outputs": [
    {
     "name": "stdout",
     "output_type": "stream",
     "text": [
      "QmYhOnVXtPW5qMCuyEYE1vvxkvzEc0dxoZpCpCBkKV3Rs0x+tg/OXyfUK6Lv5jfxBIilpJqpP4Y+clAfP09pTQ==\n"
     ]
    }
   ],
   "source": [
    "import os, base64\n",
    "\n",
    "print(base64.b64encode(os.urandom(64)).decode('utf-8'))"
   ]
  },
  {
   "cell_type": "markdown",
   "metadata": {},
   "source": [
    "Porting that to a shell function that can take an arbitrary length (useful when a site restricts length to a certain number) looks like this:\n",
    "```shell\n",
    "mpass() {\n",
    "    if [ $1 ]; then\n",
    "        length=$1\n",
    "    else\n",
    "        length=12\n",
    "    fi\n",
    "    _hash=`python3 -c \"\n",
    "import os,base64\n",
    "exec('print(base64.b64encode(os.urandom(64))[:${length}].decode(\\'utf-8\\'))')\n",
    "    \"`\n",
    "    echo $_hash | xclip -selection clipboard\n",
    "    echo \"new password copied to the system clipboard\"\n",
    "}\n",
    "```\n",
    "Now the mpass function defaults to generate 12-character passwords by slicing the output, and then sends the contents of the generated string to xclip so that it gets copied to the clipboard for easy pasting."
   ]
  },
  {
   "cell_type": "markdown",
   "metadata": {},
   "source": [
    "### Does my module exits?\n",
    "```shell\n",
    "try() {\n",
    "    python -c \"\n",
    "exec('''\n",
    "try:\n",
    "    import ${1} as _\n",
    "    print(_.__file__)\n",
    "except Exception as e:\n",
    "    print(e)\n",
    "''')\"\n",
    "}\n",
    "```"
   ]
  },
  {
   "cell_type": "markdown",
   "metadata": {},
   "source": [
    "### Changing Directories to a Module’s Path\n",
    "“Where does this module live?” is often asked when debugging libraries and dependencies, or even when poking around at the source of modules"
   ]
  },
  {
   "cell_type": "code",
   "execution_count": 6,
   "metadata": {},
   "outputs": [
    {
     "name": "stdout",
     "output_type": "stream",
     "text": [
      "<module 'os' from '/Users/jinhwan/opt/anaconda3/lib/python3.9/os.py'>\n"
     ]
    }
   ],
   "source": [
    "# You can find out the path of a module if you import it and then use print\n",
    "import os \n",
    "print(os)"
   ]
  },
  {
   "cell_type": "markdown",
   "metadata": {},
   "source": [
    "```shell\n",
    "cdp() {\n",
    "    MODULE_DIRECTORY=`python -c \"\n",
    "exec('''\n",
    "try:\n",
    "    import os.path as _, ${module}\n",
    "    print(_.dirname(_.realpath(${module}.__file__)))\n",
    "except Exception as e:\n",
    "    print(e)\n",
    "''')\"`\n",
    "    if  [[ -d $MODULE_DIRECTORY ]]; then\n",
    "        cd $MODULE_DIRECTORY\n",
    "    else\n",
    "        echo \"Module ${1} not found or is not importable: $MODULE_DIRECTORY\"\n",
    "    fi\n",
    "}\n",
    "```\n"
   ]
  }
 ],
 "metadata": {
  "kernelspec": {
   "display_name": "base",
   "language": "python",
   "name": "python3"
  },
  "language_info": {
   "codemirror_mode": {
    "name": "ipython",
    "version": 3
   },
   "file_extension": ".py",
   "mimetype": "text/x-python",
   "name": "python",
   "nbconvert_exporter": "python",
   "pygments_lexer": "ipython3",
   "version": "3.9.12"
  },
  "orig_nbformat": 4
 },
 "nbformat": 4,
 "nbformat_minor": 2
}
