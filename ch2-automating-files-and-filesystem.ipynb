{
 "cells": [
  {
   "cell_type": "markdown",
   "metadata": {},
   "source": [
    "# Chapter 2. Automating Files and the Filesystem\n"
   ]
  },
  {
   "cell_type": "markdown",
   "metadata": {},
   "source": [
    "## Reading and Writing Files"
   ]
  },
  {
   "cell_type": "code",
   "execution_count": 26,
   "metadata": {},
   "outputs": [
    {
     "ename": "FileNotFoundError",
     "evalue": "[Errno 2] No such file or directory: 'print_time.py'",
     "output_type": "error",
     "traceback": [
      "\u001b[0;31m---------------------------------------------------------------------------\u001b[0m",
      "\u001b[0;31mFileNotFoundError\u001b[0m                         Traceback (most recent call last)",
      "Cell \u001b[0;32mIn[26], line 2\u001b[0m\n\u001b[1;32m      1\u001b[0m file_path \u001b[39m=\u001b[39m \u001b[39m'\u001b[39m\u001b[39mprint_time.py\u001b[39m\u001b[39m'\u001b[39m\n\u001b[0;32m----> 2\u001b[0m open_file \u001b[39m=\u001b[39m \u001b[39mopen\u001b[39;49m(file_path, \u001b[39m'\u001b[39;49m\u001b[39mr\u001b[39;49m\u001b[39m'\u001b[39;49m)\n\u001b[1;32m      3\u001b[0m text \u001b[39m=\u001b[39m open_file\u001b[39m.\u001b[39mread()\n\u001b[1;32m      4\u001b[0m \u001b[39mlen\u001b[39m(text)\n",
      "File \u001b[0;32m~/anaconda3/lib/python3.10/site-packages/IPython/core/interactiveshell.py:282\u001b[0m, in \u001b[0;36m_modified_open\u001b[0;34m(file, *args, **kwargs)\u001b[0m\n\u001b[1;32m    275\u001b[0m \u001b[39mif\u001b[39;00m file \u001b[39min\u001b[39;00m {\u001b[39m0\u001b[39m, \u001b[39m1\u001b[39m, \u001b[39m2\u001b[39m}:\n\u001b[1;32m    276\u001b[0m     \u001b[39mraise\u001b[39;00m \u001b[39mValueError\u001b[39;00m(\n\u001b[1;32m    277\u001b[0m         \u001b[39mf\u001b[39m\u001b[39m\"\u001b[39m\u001b[39mIPython won\u001b[39m\u001b[39m'\u001b[39m\u001b[39mt let you open fd=\u001b[39m\u001b[39m{\u001b[39;00mfile\u001b[39m}\u001b[39;00m\u001b[39m by default \u001b[39m\u001b[39m\"\u001b[39m\n\u001b[1;32m    278\u001b[0m         \u001b[39m\"\u001b[39m\u001b[39mas it is likely to crash IPython. If you know what you are doing, \u001b[39m\u001b[39m\"\u001b[39m\n\u001b[1;32m    279\u001b[0m         \u001b[39m\"\u001b[39m\u001b[39myou can use builtins\u001b[39m\u001b[39m'\u001b[39m\u001b[39m open.\u001b[39m\u001b[39m\"\u001b[39m\n\u001b[1;32m    280\u001b[0m     )\n\u001b[0;32m--> 282\u001b[0m \u001b[39mreturn\u001b[39;00m io_open(file, \u001b[39m*\u001b[39;49margs, \u001b[39m*\u001b[39;49m\u001b[39m*\u001b[39;49mkwargs)\n",
      "\u001b[0;31mFileNotFoundError\u001b[0m: [Errno 2] No such file or directory: 'print_time.py'"
     ]
    }
   ],
   "source": [
    "file_path = 'print_time.py'\n",
    "open_file = open(file_path, 'r')\n",
    "text = open_file.read()\n",
    "len(text)"
   ]
  },
  {
   "cell_type": "code",
   "execution_count": null,
   "metadata": {},
   "outputs": [
    {
     "data": {
      "text/plain": [
       "'t'"
      ]
     },
     "execution_count": 2,
     "metadata": {},
     "output_type": "execute_result"
    }
   ],
   "source": [
    "text[56]"
   ]
  },
  {
   "cell_type": "code",
   "execution_count": null,
   "metadata": {},
   "outputs": [
    {
     "data": {
      "text/plain": [
       "<_io.TextIOWrapper name='print_time.py' mode='r' encoding='UTF-8'>"
      ]
     },
     "execution_count": 3,
     "metadata": {},
     "output_type": "execute_result"
    }
   ],
   "source": [
    "open_file"
   ]
  },
  {
   "cell_type": "code",
   "execution_count": null,
   "metadata": {},
   "outputs": [],
   "source": [
    "open_file.close()"
   ]
  },
  {
   "cell_type": "code",
   "execution_count": null,
   "metadata": {},
   "outputs": [
    {
     "data": {
      "text/plain": [
       "3"
      ]
     },
     "execution_count": 5,
     "metadata": {},
     "output_type": "execute_result"
    }
   ],
   "source": [
    "# readlines\n",
    "file_path = 'print_time.py'\n",
    "open_file = open(file_path, 'r')\n",
    "text = open_file.readlines()\n",
    "len(text)"
   ]
  },
  {
   "cell_type": "code",
   "execution_count": null,
   "metadata": {},
   "outputs": [
    {
     "data": {
      "text/plain": [
       "'print(datetime.datetime.now().time())\\n'"
      ]
     },
     "execution_count": 6,
     "metadata": {},
     "output_type": "execute_result"
    }
   ],
   "source": [
    "text[2]"
   ]
  },
  {
   "cell_type": "code",
   "execution_count": null,
   "metadata": {},
   "outputs": [],
   "source": [
    "open_file.close()"
   ]
  },
  {
   "cell_type": "code",
   "execution_count": null,
   "metadata": {},
   "outputs": [
    {
     "name": "stdout",
     "output_type": "stream",
     "text": [
      "import datetime \n",
      "\n"
     ]
    },
    {
     "data": {
      "text/plain": [
       "True"
      ]
     },
     "execution_count": 10,
     "metadata": {},
     "output_type": "execute_result"
    }
   ],
   "source": [
    "# A handy way of opening files is to use with statements. \n",
    "# You do not need to close a file explicitly in this case.\n",
    "with open(file_path, 'r') as open_file: \n",
    "    text = open_file.readlines()\n",
    "  \n",
    "print(text[1])\n",
    "open_file.closed\n"
   ]
  },
  {
   "cell_type": "code",
   "execution_count": null,
   "metadata": {},
   "outputs": [
    {
     "data": {
      "text/plain": [
       "75"
      ]
     },
     "execution_count": 11,
     "metadata": {},
     "output_type": "execute_result"
    }
   ],
   "source": [
    "file_path = '20221025_GID_Storage.pptx'\n",
    "with open(file_path, 'rb') as open_file: \n",
    "    btext = open_file.read()\n",
    "\n",
    "btext[1]"
   ]
  },
  {
   "cell_type": "code",
   "execution_count": null,
   "metadata": {},
   "outputs": [
    {
     "data": {
      "text/plain": [
       "b'PK\\x03\\x04\\x14\\x00\\x06\\x00\\x08\\x00\\x00\\x00!\\x00\\xe65\\xf2\\x04\\x8c\\x04\\x00\\x00\\x9cP\\x00'"
      ]
     },
     "execution_count": 12,
     "metadata": {},
     "output_type": "execute_result"
    }
   ],
   "source": [
    "# read binary files by appending a b to mode:\n",
    "btext[:25]"
   ]
  },
  {
   "cell_type": "code",
   "execution_count": null,
   "metadata": {},
   "outputs": [
    {
     "name": "stdout",
     "output_type": "stream",
     "text": [
      "export STAGE=PROD\n",
      "export TABLE_ID=token-storage-1234"
     ]
    }
   ],
   "source": [
    "# Writing to a file\n",
    "text = '''export STAGE=PROD\n",
    "export TABLE_ID=token-storage-1234'''\n",
    "with open('.envrc', 'w') as open_file:\n",
    "    open_file.write(text)\n",
    "\n",
    "!cat .envrc"
   ]
  },
  {
   "cell_type": "code",
   "execution_count": null,
   "metadata": {},
   "outputs": [
    {
     "data": {
      "text/plain": [
       "'#!/usr/bin/env python\\nimport datetime \\nprint(datetime.datetime.now().time())\\n'"
      ]
     },
     "execution_count": 14,
     "metadata": {},
     "output_type": "execute_result"
    }
   ],
   "source": [
    "# pathlib handles the file object behind the scenes. The following allows you to read text from a file\n",
    "import pathlib\n",
    "\n",
    "path = pathlib.Path('/Users/jin/Documents/Lab/BOOKS/python-for-devops/print_time.py')\n",
    "\n",
    "path.read_text()"
   ]
  },
  {
   "cell_type": "markdown",
   "metadata": {},
   "source": [
    "## Handling IAM policy (json)"
   ]
  },
  {
   "cell_type": "code",
   "execution_count": null,
   "metadata": {},
   "outputs": [
    {
     "name": "stdout",
     "output_type": "stream",
     "text": [
      "['{\\n', '    \"Version\": \"2012-10-17\",\\n', '    \"Statement\": {\\n', '        \"Effect\": \"Allow\",\\n', '        \"Action\": \"service-prefix:action-name\",\\n', '        \"Resource\": \"*\",\\n', '        \"Condition\": {\\n', '            \"DateGreaterThan\": {\"aws:CurrentTime\": \"2017-07-01T00:00:00Z\"},\\n', '            \"DateLessThan\": {\"aws:CurrentTime\": \"2017-12-31T23:59:59Z\"}\\n', '        }\\n', '    }\\n', '}']\n"
     ]
    }
   ],
   "source": [
    "with open('./sample/service_policy.json', 'r') as opened_file: \n",
    "    policy = opened_file.readlines()\n",
    "\n",
    "print(policy)"
   ]
  },
  {
   "cell_type": "code",
   "execution_count": null,
   "metadata": {},
   "outputs": [],
   "source": [
    "# Properly read json using json and pprint packages\n",
    "import json\n",
    "with open('./sample/service_policy.json', 'r') as opened_file:\n",
    "    policy  = json.load(opened_file)"
   ]
  },
  {
   "cell_type": "code",
   "execution_count": null,
   "metadata": {},
   "outputs": [
    {
     "name": "stdout",
     "output_type": "stream",
     "text": [
      "{'Statement': {'Action': 'service-prefix:action-name',\n",
      "               'Condition': {'DateGreaterThan': {'aws:CurrentTime': '2017-07-01T00:00:00Z'},\n",
      "                             'DateLessThan': {'aws:CurrentTime': '2017-12-31T23:59:59Z'}},\n",
      "               'Effect': 'Allow',\n",
      "               'Resource': '*'},\n",
      " 'Version': '2012-10-17'}\n"
     ]
    }
   ],
   "source": [
    "from pprint import pprint\n",
    "pprint(policy)"
   ]
  },
  {
   "cell_type": "code",
   "execution_count": null,
   "metadata": {},
   "outputs": [
    {
     "name": "stdout",
     "output_type": "stream",
     "text": [
      "{'Statement': {'Action': 'service-prefix:action-name',\n",
      "               'Condition': {'DateGreaterThan': {'aws:CurrentTime': '2017-07-01T00:00:00Z'},\n",
      "                             'DateLessThan': {'aws:CurrentTime': '2017-12-31T23:59:59Z'}},\n",
      "               'Effect': 'Allow',\n",
      "               'Resource': 'S3'},\n",
      " 'Version': '2012-10-17'}\n"
     ]
    }
   ],
   "source": [
    "policy['Statement']['Resource'] = 'S3'\n",
    "pprint(policy)"
   ]
  },
  {
   "cell_type": "code",
   "execution_count": null,
   "metadata": {},
   "outputs": [
    {
     "name": "stdout",
     "output_type": "stream",
     "text": [
      "None\n"
     ]
    }
   ],
   "source": [
    "# write a Python dictionary as a JSON file by using the json.dump method\n",
    "with open('./sample/service_policy.json', 'w') as opened_file:\n",
    "    policy = json.dump(policy, opened_file)\n",
    "\n",
    "pprint(policy)"
   ]
  },
  {
   "cell_type": "markdown",
   "metadata": {},
   "source": [
    "## Handling YAML"
   ]
  },
  {
   "cell_type": "code",
   "execution_count": null,
   "metadata": {},
   "outputs": [
    {
     "name": "stdout",
     "output_type": "stream",
     "text": [
      "[{'hosts': 'webservers',\n",
      "  'remote_user': 'root',\n",
      "  'tasks': [{'name': 'ensure apache is at the latest version',\n",
      "             'yum': {'name': 'httpd', 'state': 'latest'}}],\n",
      "  'vars': {'http_port': 80, 'max_clients': 200}}]\n"
     ]
    }
   ],
   "source": [
    "import yaml \n",
    "\n",
    "with open('./sample/ansible.yaml', 'r') as opened_file: \n",
    "    verify_apache = yaml.safe_load(opened_file)\n",
    "\n",
    "# The data loads as familiar Python data structures (a list containing a dict):\n",
    "pprint(verify_apache)"
   ]
  },
  {
   "cell_type": "markdown",
   "metadata": {},
   "source": [
    "## Handling XML"
   ]
  },
  {
   "cell_type": "code",
   "execution_count": 30,
   "metadata": {},
   "outputs": [
    {
     "data": {
      "text/plain": [
       "<Element 'library' at 0x107f6f420>"
      ]
     },
     "execution_count": 30,
     "metadata": {},
     "output_type": "execute_result"
    }
   ],
   "source": [
    "import xml.etree.ElementTree as ET\n",
    "tree = ET.parse('./sample/library.xml')\n",
    "\n",
    "root = tree.getroot()\n",
    "root "
   ]
  },
  {
   "cell_type": "code",
   "execution_count": 31,
   "metadata": {},
   "outputs": [
    {
     "name": "stdout",
     "output_type": "stream",
     "text": [
      "book {}\n",
      "book {}\n",
      "book {}\n"
     ]
    }
   ],
   "source": [
    "for child in root:\n",
    "    print(child.tag, child.attrib)"
   ]
  },
  {
   "cell_type": "markdown",
   "metadata": {},
   "source": [
    "## Handling CSV"
   ]
  },
  {
   "cell_type": "code",
   "execution_count": 32,
   "metadata": {},
   "outputs": [
    {
     "name": "stdout",
     "output_type": "stream",
     "text": [
      "['Name', 'Age', 'Location', 'Occupation']\n",
      "['John Smith', '32', 'New York', 'Engineer']\n",
      "['Jane Doe', '28', 'Los Angeles', 'Designer']\n",
      "['Michael Johnson', '45', 'Chicago', 'Teacher']\n",
      "['Emily Williams', '22', 'San Francisco', 'Student']\n"
     ]
    }
   ],
   "source": [
    "import csv \n",
    "\n",
    "file_path = './sample/test.csv'\n",
    "\n",
    "with open(file_path, newline='') as csv_file :\n",
    "    off_reader = csv.reader(csv_file, delimiter=',')\n",
    "    for _ in range(5):\n",
    "        print(next(off_reader))"
   ]
  },
  {
   "cell_type": "code",
   "execution_count": 34,
   "metadata": {},
   "outputs": [
    {
     "data": {
      "text/plain": [
       "pandas.core.frame.DataFrame"
      ]
     },
     "execution_count": 34,
     "metadata": {},
     "output_type": "execute_result"
    }
   ],
   "source": [
    "import pandas as pd\n",
    "\n",
    "df = pd.read_csv('./sample/test.csv')\n",
    "type(df)"
   ]
  },
  {
   "cell_type": "code",
   "execution_count": 35,
   "metadata": {},
   "outputs": [
    {
     "data": {
      "text/html": [
       "<div>\n",
       "<style scoped>\n",
       "    .dataframe tbody tr th:only-of-type {\n",
       "        vertical-align: middle;\n",
       "    }\n",
       "\n",
       "    .dataframe tbody tr th {\n",
       "        vertical-align: top;\n",
       "    }\n",
       "\n",
       "    .dataframe thead th {\n",
       "        text-align: right;\n",
       "    }\n",
       "</style>\n",
       "<table border=\"1\" class=\"dataframe\">\n",
       "  <thead>\n",
       "    <tr style=\"text-align: right;\">\n",
       "      <th></th>\n",
       "      <th>Name</th>\n",
       "      <th>Age</th>\n",
       "      <th>Location</th>\n",
       "      <th>Occupation</th>\n",
       "    </tr>\n",
       "  </thead>\n",
       "  <tbody>\n",
       "    <tr>\n",
       "      <th>0</th>\n",
       "      <td>John Smith</td>\n",
       "      <td>32</td>\n",
       "      <td>New York</td>\n",
       "      <td>Engineer</td>\n",
       "    </tr>\n",
       "    <tr>\n",
       "      <th>1</th>\n",
       "      <td>Jane Doe</td>\n",
       "      <td>28</td>\n",
       "      <td>Los Angeles</td>\n",
       "      <td>Designer</td>\n",
       "    </tr>\n",
       "    <tr>\n",
       "      <th>2</th>\n",
       "      <td>Michael Johnson</td>\n",
       "      <td>45</td>\n",
       "      <td>Chicago</td>\n",
       "      <td>Teacher</td>\n",
       "    </tr>\n",
       "  </tbody>\n",
       "</table>\n",
       "</div>"
      ],
      "text/plain": [
       "              Name  Age     Location Occupation\n",
       "0       John Smith   32     New York   Engineer\n",
       "1         Jane Doe   28  Los Angeles   Designer\n",
       "2  Michael Johnson   45      Chicago    Teacher"
      ]
     },
     "execution_count": 35,
     "metadata": {},
     "output_type": "execute_result"
    }
   ],
   "source": [
    "df.head(3)"
   ]
  },
  {
   "cell_type": "code",
   "execution_count": 37,
   "metadata": {},
   "outputs": [
    {
     "data": {
      "text/html": [
       "<div>\n",
       "<style scoped>\n",
       "    .dataframe tbody tr th:only-of-type {\n",
       "        vertical-align: middle;\n",
       "    }\n",
       "\n",
       "    .dataframe tbody tr th {\n",
       "        vertical-align: top;\n",
       "    }\n",
       "\n",
       "    .dataframe thead th {\n",
       "        text-align: right;\n",
       "    }\n",
       "</style>\n",
       "<table border=\"1\" class=\"dataframe\">\n",
       "  <thead>\n",
       "    <tr style=\"text-align: right;\">\n",
       "      <th></th>\n",
       "      <th>Age</th>\n",
       "    </tr>\n",
       "  </thead>\n",
       "  <tbody>\n",
       "    <tr>\n",
       "      <th>count</th>\n",
       "      <td>10.000000</td>\n",
       "    </tr>\n",
       "    <tr>\n",
       "      <th>mean</th>\n",
       "      <td>34.600000</td>\n",
       "    </tr>\n",
       "    <tr>\n",
       "      <th>std</th>\n",
       "      <td>8.946756</td>\n",
       "    </tr>\n",
       "    <tr>\n",
       "      <th>min</th>\n",
       "      <td>22.000000</td>\n",
       "    </tr>\n",
       "    <tr>\n",
       "      <th>25%</th>\n",
       "      <td>28.250000</td>\n",
       "    </tr>\n",
       "    <tr>\n",
       "      <th>50%</th>\n",
       "      <td>33.500000</td>\n",
       "    </tr>\n",
       "    <tr>\n",
       "      <th>75%</th>\n",
       "      <td>40.750000</td>\n",
       "    </tr>\n",
       "    <tr>\n",
       "      <th>max</th>\n",
       "      <td>50.000000</td>\n",
       "    </tr>\n",
       "  </tbody>\n",
       "</table>\n",
       "</div>"
      ],
      "text/plain": [
       "             Age\n",
       "count  10.000000\n",
       "mean   34.600000\n",
       "std     8.946756\n",
       "min    22.000000\n",
       "25%    28.250000\n",
       "50%    33.500000\n",
       "75%    40.750000\n",
       "max    50.000000"
      ]
     },
     "execution_count": 37,
     "metadata": {},
     "output_type": "execute_result"
    }
   ],
   "source": [
    "df.describe()"
   ]
  },
  {
   "cell_type": "code",
   "execution_count": 38,
   "metadata": {},
   "outputs": [
    {
     "data": {
      "text/plain": [
       "0         New York\n",
       "1      Los Angeles\n",
       "2          Chicago\n",
       "3    San Francisco\n",
       "4            Miami\n",
       "5           Boston\n",
       "6          Houston\n",
       "7          Seattle\n",
       "8          Atlanta\n",
       "9           Dallas\n",
       "Name: Location, dtype: object"
      ]
     },
     "execution_count": 38,
     "metadata": {},
     "output_type": "execute_result"
    }
   ],
   "source": [
    "df['Location']"
   ]
  },
  {
   "cell_type": "markdown",
   "metadata": {},
   "source": [
    "## Using Regular Expressions to Search Text"
   ]
  },
  {
   "cell_type": "code",
   "execution_count": 12,
   "metadata": {},
   "outputs": [
    {
     "data": {
      "text/plain": [
       "'127.0.0.1'"
      ]
     },
     "execution_count": 12,
     "metadata": {},
     "output_type": "execute_result"
    }
   ],
   "source": [
    "# Let's find an ip address\n",
    "import re\n",
    "\n",
    "line = '127.0.0.1 - rj [13/Nov/2019:14:34:30 -0000] \"GET HTTP/1.0\" 200'\n",
    "\n",
    "m = re.search(r'(?P<IP>\\d+\\.\\d+\\.\\d+\\.\\d+)', line)\n",
    "\n",
    "m.group('IP')"
   ]
  },
  {
   "cell_type": "code",
   "execution_count": 28,
   "metadata": {},
   "outputs": [
    {
     "name": "stdout",
     "output_type": "stream",
     "text": [
      "13/Nov/2019:14:34:30\n"
     ]
    }
   ],
   "source": [
    "# You can also create a regular expression to get the time:\n",
    "r = r'\\[(?P<Time>\\d\\d/\\w{3}/\\d{4}:\\d{2}:\\d{2}:\\d{2})'\n",
    "m = re.search(r, line)\n",
    "\n",
    "print(m.group('Time'))"
   ]
  },
  {
   "cell_type": "markdown",
   "metadata": {},
   "source": [
    "Parsing a single line of a log is interesting but not terribly useful. However, you can use this regular expression as a basis for designing one to pull information from the whole log. Let’s say you want to pull all of the IP addresses for GET requests that happened on November 8, 2019. "
   ]
  },
  {
   "cell_type": "code",
   "execution_count": 48,
   "metadata": {},
   "outputs": [],
   "source": [
    "apache_log = '''\n",
    "127.0.0.1 - jinhwan [03/Aug/2023:10:15:25 +0000] \"GET /index.html HTTP/1.1\" 200 3548\n",
    "192.168.1.1 - jeongeuun [03/Aug/2023:10:20:12 +0000] \"GET /images/logo.png HTTP/1.1\" 304 0\n",
    "10.0.0.2 - jinhwan [03/Aug/2023:10:25:41 +0000] \"POST /submit_form HTTP/1.1\" 302 220\n",
    "172.16.0.1 - leah [03/Aug/2023:10:30:18 +0000] \"GET /about.html HTTP/1.1\" 200 1805\n",
    "192.168.2.2 - jinhwan [03/Aug/2023:10:35:57 +0000] \"GET /styles/main.css HTTP/1.1\" 200 1124\n",
    "'''\n",
    "\n",
    "r = r'(?P<IP>\\d+\\.\\d+\\.\\d+\\.\\d+) '\n",
    "r += r'- (?P<User>\\w+)'\n",
    "r += r' \\[(?P<Time>03/Aug/\\d{4}:\\d{2}:\\d{2}:\\d{2} [-+]\\d{4})\\]'\n",
    "r += r' (?P<Request>\"GET .+\")'"
   ]
  },
  {
   "cell_type": "code",
   "execution_count": 50,
   "metadata": {},
   "outputs": [
    {
     "name": "stdout",
     "output_type": "stream",
     "text": [
      "<callable_iterator object at 0x10777d150>\n",
      "127.0.0.1\n",
      "192.168.1.1\n",
      "172.16.0.1\n",
      "192.168.2.2\n"
     ]
    }
   ],
   "source": [
    "matched = re.finditer(r, apache_log)\n",
    "print(matched)\n",
    "for m in matched:\n",
    "    print(m.group('IP'))"
   ]
  },
  {
   "cell_type": "markdown",
   "metadata": {},
   "source": [
    "## Dealing with Large Files"
   ]
  },
  {
   "cell_type": "code",
   "execution_count": 51,
   "metadata": {},
   "outputs": [],
   "source": [
    "with open('./sample/apache.log', 'r') as source_file: \n",
    "    with open('./sample/apache_log_new.log', 'w') as target_file:\n",
    "        for line in source_file:\n",
    "            target_file.write(line)\n"
   ]
  },
  {
   "cell_type": "code",
   "execution_count": 52,
   "metadata": {},
   "outputs": [
    {
     "name": "stdout",
     "output_type": "stream",
     "text": [
      "127.0.0.1 - jinhwan [03/Aug/2023:10:15:25 +0000] \"GET /index.html HTTP/1.1\" 200 3548\n",
      "192.168.1.1 - jeongeuun [03/Aug/2023:10:20:12 +0000] \"GET /images/logo.png HTTP/1.1\" 304 0\n",
      "10.0.0.2 - jinhwan [03/Aug/2023:10:25:41 +0000] \"POST /submit_form HTTP/1.1\" 302 220\n",
      "172.16.0.1 - leah [03/Aug/2023:10:30:18 +0000] \"GET /about.html HTTP/1.1\" 200 1805\n",
      "192.168.2.2 - jinhwan [03/Aug/2023:10:35:57 +0000] \"GET /styles/main.css HTTP/1.1\" 200 1124\n"
     ]
    }
   ],
   "source": [
    "!cat ./sample/apache_log_new.log"
   ]
  },
  {
   "cell_type": "markdown",
   "metadata": {},
   "source": [
    "## Encrypting Text\n",
    "In addition to Python’s built-in package `hashlib`, there is a widely used third-party package called `cryptography`"
   ]
  },
  {
   "cell_type": "code",
   "execution_count": 53,
   "metadata": {},
   "outputs": [
    {
     "data": {
      "text/plain": [
       "b' \\xf5\\x06\\xe6\\xfc\\x1c\\xbe\\x86\\xddj\\x96C\\x10\\x0f5E'"
      ]
     },
     "execution_count": 53,
     "metadata": {},
     "output_type": "execute_result"
    }
   ],
   "source": [
    "import hashlib\n",
    "\n",
    "secret = \"This is the password or document text\"\n",
    "\n",
    "# if your password or document is a string, you need to turn it into a binary string by using the encode method\n",
    "bsecret = secret.encode()\n",
    "\n",
    "m = hashlib.md5()\n",
    "\n",
    "m.update(bsecret)\n",
    "\n",
    "m.digest()"
   ]
  },
  {
   "cell_type": "markdown",
   "metadata": {},
   "source": [
    "### Encryption with Cryptography"
   ]
  },
  {
   "cell_type": "code",
   "execution_count": 54,
   "metadata": {},
   "outputs": [
    {
     "name": "stdout",
     "output_type": "stream",
     "text": [
      "Requirement already satisfied: cryptography in /Users/jin/anaconda3/lib/python3.10/site-packages (39.0.1)\n",
      "Requirement already satisfied: cffi>=1.12 in /Users/jin/anaconda3/lib/python3.10/site-packages (from cryptography) (1.15.1)\n",
      "Requirement already satisfied: pycparser in /Users/jin/anaconda3/lib/python3.10/site-packages (from cffi>=1.12->cryptography) (2.21)\n"
     ]
    }
   ],
   "source": [
    "\n",
    "!pip install cryptography"
   ]
  },
  {
   "cell_type": "code",
   "execution_count": 56,
   "metadata": {},
   "outputs": [
    {
     "data": {
      "text/plain": [
       "b'ykCaMAmEhjlKHtzYsmFztEIt-zUgTITyBD7Brj6emmc='"
      ]
     },
     "execution_count": 56,
     "metadata": {},
     "output_type": "execute_result"
    }
   ],
   "source": [
    "# import Fernet for symmetric encryption\n",
    "from cryptography.fernet import Fernet\n",
    "\n",
    "key = Fernet.generate_key()\n",
    "key"
   ]
  },
  {
   "cell_type": "code",
   "execution_count": 57,
   "metadata": {},
   "outputs": [
    {
     "data": {
      "text/plain": [
       "b'gAAAAABky3dInmxb1Fi8n_dz1LIWKEL8pwWAVvgyHMpE0lDE0NyU0ByNqVKDI0pWraPrFRhlBOw0qEEnVM726Wzoln4AIJaOZ5Yh94MWh0PjGEY_Op8EF-A='"
      ]
     },
     "execution_count": 57,
     "metadata": {},
     "output_type": "execute_result"
    }
   ],
   "source": [
    "f = Fernet(key)\n",
    "\n",
    "message = b'I\\'m going home on Thursday'\n",
    "encrypted = f.encrypt(message)\n",
    "\n",
    "encrypted"
   ]
  },
  {
   "cell_type": "code",
   "execution_count": 58,
   "metadata": {},
   "outputs": [
    {
     "data": {
      "text/plain": [
       "b\"I'm going home on Thursday\""
      ]
     },
     "execution_count": 58,
     "metadata": {},
     "output_type": "execute_result"
    }
   ],
   "source": [
    "# You can decrypt the data using a Fernet object created with the same key\n",
    "f = Fernet(key)\n",
    "decrypted = f.decrypt(encrypted)\n",
    "decrypted"
   ]
  },
  {
   "cell_type": "code",
   "execution_count": 60,
   "metadata": {},
   "outputs": [
    {
     "data": {
      "text/plain": [
       "<cryptography.hazmat.backends.openssl.rsa._RSAPrivateKey at 0x107d2a8f0>"
      ]
     },
     "execution_count": 60,
     "metadata": {},
     "output_type": "execute_result"
    }
   ],
   "source": [
    "# Asymmetric key encryption uses a pair of keys, one public and one private. \n",
    "# The public key is designed to be widely shared, while a single user holds the private one. \n",
    "# The only way you can decrypt messages that have been encrypted using your public \n",
    "# key is by using your private key\n",
    "from cryptography.hazmat.backends import default_backend\n",
    "# One very popular asymmetric key algorithm is Rivest-Shamir-Adleman (RSA)\n",
    "from cryptography.hazmat.primitives.asymmetric import rsa\n",
    "\n",
    "private_key = rsa.generate_private_key(public_exponent=65537,\n",
    "                                       key_size=4096,\n",
    "                                       backend=default_backend())\n",
    "\n",
    "private_key"
   ]
  },
  {
   "cell_type": "code",
   "execution_count": 62,
   "metadata": {},
   "outputs": [
    {
     "data": {
      "text/plain": [
       "<cryptography.hazmat.backends.openssl.rsa._RSAPublicKey at 0x106a491e0>"
      ]
     },
     "execution_count": 62,
     "metadata": {},
     "output_type": "execute_result"
    }
   ],
   "source": [
    "public_key = private_key.public_key()\n",
    "public_key"
   ]
  },
  {
   "cell_type": "code",
   "execution_count": null,
   "metadata": {},
   "outputs": [],
   "source": [
    "message = b\"More secrets go here\"\n",
    "from cryptography.hazmat.primitives.asymmetric import padding\n",
    "from cryptography.hazmat.primitives import hashes\n",
    "\n",
    "encrypted = public_key.encrypt(message, \n",
    "                               padding=padding.OAEP(mgf=padding.MGF1(algorithm=hashes.SHA256()),\n",
    "                                                    algorithm=hashes.SHA256(), \n",
    "                                                    label=None))\n",
    "\n",
    "# Padding in encryption refers to adding extra bits or bytes to the plaintext message before encryption \n",
    "# in order to ensure that the message meets specific length or formatting requirements imposed by the \n",
    "# encryption algorithm."
   ]
  }
 ],
 "metadata": {
  "kernelspec": {
   "display_name": "base",
   "language": "python",
   "name": "python3"
  },
  "language_info": {
   "codemirror_mode": {
    "name": "ipython",
    "version": 3
   },
   "file_extension": ".py",
   "mimetype": "text/x-python",
   "name": "python",
   "nbconvert_exporter": "python",
   "pygments_lexer": "ipython3",
   "version": "3.10.9"
  },
  "orig_nbformat": 4
 },
 "nbformat": 4,
 "nbformat_minor": 2
}
