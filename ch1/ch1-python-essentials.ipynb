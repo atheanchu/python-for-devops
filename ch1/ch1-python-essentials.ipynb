{
 "cells": [
  {
   "cell_type": "markdown",
   "metadata": {},
   "source": [
    "## Sequence"
   ]
  },
  {
   "cell_type": "code",
   "execution_count": 2,
   "metadata": {},
   "outputs": [
    {
     "data": {
      "text/plain": [
       "['c', 'd', 'e']"
      ]
     },
     "execution_count": 2,
     "metadata": {},
     "output_type": "execute_result"
    }
   ],
   "source": [
    "my_sequence = ['a', 'b', 'c', 'd', 'e', 'f', 'g']\n",
    "my_sequence[2:5]\n"
   ]
  },
  {
   "cell_type": "code",
   "execution_count": 3,
   "metadata": {},
   "outputs": [
    {
     "data": {
      "text/plain": [
       "['a', 'b', 'c', 'd', 'e']"
      ]
     },
     "execution_count": 3,
     "metadata": {},
     "output_type": "execute_result"
    }
   ],
   "source": [
    "my_sequence[:5]\n"
   ]
  },
  {
   "cell_type": "code",
   "execution_count": 4,
   "metadata": {},
   "outputs": [
    {
     "data": {
      "text/plain": [
       "['d', 'e', 'f', 'g']"
      ]
     },
     "execution_count": 4,
     "metadata": {},
     "output_type": "execute_result"
    }
   ],
   "source": [
    "my_sequence[3:]"
   ]
  },
  {
   "cell_type": "markdown",
   "metadata": {},
   "source": [
    "## List"
   ]
  },
  {
   "cell_type": "code",
   "execution_count": 5,
   "metadata": {},
   "outputs": [
    {
     "data": {
      "text/plain": [
       "[0, 1, 2, 3, 4, 5, 6, 7, 8, 9]"
      ]
     },
     "execution_count": 5,
     "metadata": {},
     "output_type": "execute_result"
    }
   ],
   "source": [
    "list()\n",
    "list(range(10))\n"
   ]
  },
  {
   "cell_type": "code",
   "execution_count": 6,
   "metadata": {},
   "outputs": [
    {
     "data": {
      "text/plain": [
       "['H', 'y', 'u', 'n', ' ', 'J', 'i', 'n', ' ', 'H', 'w', 'a', 'n']"
      ]
     },
     "execution_count": 6,
     "metadata": {},
     "output_type": "execute_result"
    }
   ],
   "source": [
    "list(\"Hyun Jin Hwan\")"
   ]
  },
  {
   "cell_type": "code",
   "execution_count": 7,
   "metadata": {},
   "outputs": [
    {
     "data": {
      "text/plain": [
       "['cherry', 'apple', 'rhubarb']"
      ]
     },
     "execution_count": 7,
     "metadata": {},
     "output_type": "execute_result"
    }
   ],
   "source": [
    "pies = ['cherry', 'apple']\n",
    "# append\n",
    "pies.append('rhubarb')\n",
    "pies"
   ]
  },
  {
   "cell_type": "code",
   "execution_count": 10,
   "metadata": {},
   "outputs": [
    {
     "data": {
      "text/plain": [
       "['cherry', 'cream', 'cream', 'cream', 'apple', 'rhubarb']"
      ]
     },
     "execution_count": 10,
     "metadata": {},
     "output_type": "execute_result"
    }
   ],
   "source": [
    "# insert \n",
    "pies.insert(1, 'cream')\n",
    "pies"
   ]
  },
  {
   "cell_type": "code",
   "execution_count": 12,
   "metadata": {},
   "outputs": [
    {
     "data": {
      "text/plain": [
       "['cookies', 'paste', 'cherry', 'cream', 'cream', 'cream', 'apple', 'rhubarb']"
      ]
     },
     "execution_count": 12,
     "metadata": {},
     "output_type": "execute_result"
    }
   ],
   "source": [
    "# extending a list \n",
    "desserts = ['cookies', 'paste']\n",
    "desserts.extend(pies)\n",
    "desserts"
   ]
  },
  {
   "cell_type": "code",
   "execution_count": 13,
   "metadata": {},
   "outputs": [
    {
     "data": {
      "text/plain": [
       "['cherry', 'cream', 'cream', 'cream', 'apple']"
      ]
     },
     "execution_count": 13,
     "metadata": {},
     "output_type": "execute_result"
    }
   ],
   "source": [
    "# pop: delete the last item\n",
    "pies.pop()\n",
    "pies"
   ]
  },
  {
   "cell_type": "code",
   "execution_count": 15,
   "metadata": {},
   "outputs": [
    {
     "data": {
      "text/plain": [
       "['cherry', 'cream', 'cream', 'cream']"
      ]
     },
     "execution_count": 15,
     "metadata": {},
     "output_type": "execute_result"
    }
   ],
   "source": [
    "# remove: delete the first occurrence of an item\n",
    "pies.remove('apple')\n",
    "pies"
   ]
  },
  {
   "cell_type": "markdown",
   "metadata": {},
   "source": [
    "One of the most potent and idiomatic Python features list comprehensions, allows you to use the functionality of a for loop in a single line"
   ]
  },
  {
   "cell_type": "code",
   "execution_count": 16,
   "metadata": {},
   "outputs": [
    {
     "data": {
      "text/plain": [
       "[0, 1, 4, 9, 16, 25, 36, 49, 64, 81]"
      ]
     },
     "execution_count": 16,
     "metadata": {},
     "output_type": "execute_result"
    }
   ],
   "source": [
    "# Not using list comprehension\n",
    "squares = []\n",
    "for i in range(10):\n",
    "    squares.append(i * i)\n",
    "\n",
    "squares"
   ]
  },
  {
   "cell_type": "code",
   "execution_count": 18,
   "metadata": {},
   "outputs": [
    {
     "data": {
      "text/plain": [
       "[0, 1, 4, 9, 16, 25, 36, 49, 64, 81]"
      ]
     },
     "execution_count": 18,
     "metadata": {},
     "output_type": "execute_result"
    }
   ],
   "source": [
    "sqaures = [ i * i for i in range(10) ]\n",
    "squares"
   ]
  },
  {
   "cell_type": "code",
   "execution_count": 26,
   "metadata": {},
   "outputs": [
    {
     "data": {
      "text/plain": [
       "[0, 4, 16, 36, 64]"
      ]
     },
     "execution_count": 26,
     "metadata": {},
     "output_type": "execute_result"
    }
   ],
   "source": [
    "# You can also add conditionals to list comprehensions, filtering the results\n",
    "sqaures = [ i * i for i in range(10) if i % 2 == 0]\n",
    "squares"
   ]
  },
  {
   "cell_type": "markdown",
   "metadata": {},
   "source": [
    "## String"
   ]
  },
  {
   "cell_type": "code",
   "execution_count": 28,
   "metadata": {},
   "outputs": [
    {
     "name": "stdout",
     "output_type": "stream",
     "text": [
      "\n",
      "  This is a \n",
      "  multi-line string, \n",
      "  which includes linebreaks.\n",
      "\n"
     ]
    }
   ],
   "source": [
    "multi_line = \"\"\"\n",
    "This is a \n",
    "multi-line string, \n",
    "which includes linebreaks.\n",
    "\"\"\"\n",
    "print(multi_line)"
   ]
  },
  {
   "cell_type": "code",
   "execution_count": 29,
   "metadata": {},
   "outputs": [],
   "source": [
    "input = \"  I want more  \""
   ]
  },
  {
   "cell_type": "code",
   "execution_count": 33,
   "metadata": {},
   "outputs": [
    {
     "name": "stdout",
     "output_type": "stream",
     "text": [
      "I want more\n",
      "  I want more\n",
      "I want more  \n"
     ]
    }
   ],
   "source": [
    "print(input.strip())\n",
    "print(input.rstrip())\n",
    "print(input.lstrip())"
   ]
  },
  {
   "cell_type": "code",
   "execution_count": 34,
   "metadata": {},
   "outputs": [
    {
     "data": {
      "text/plain": [
       "'cow and milk and bread and butter'"
      ]
     },
     "execution_count": 34,
     "metadata": {},
     "output_type": "execute_result"
    }
   ],
   "source": [
    "# Joining\n",
    "items = ['cow', 'milk', 'bread', 'butter']\n",
    "' and '.join(items)"
   ]
  },
  {
   "cell_type": "code",
   "execution_count": 35,
   "metadata": {},
   "outputs": [
    {
     "name": "stdout",
     "output_type": "stream",
     "text": [
      "Bill monroe\n",
      "BILL MONROE\n",
      "Bill Monroe\n",
      "BILL MONROE\n",
      "bill monroe\n"
     ]
    }
   ],
   "source": [
    "name = \"bill monroe\"\n",
    "print(name.capitalize())\n",
    "print(name.upper())\n",
    "print(name.title())\n",
    "print(name.swapcase())\n",
    "name = name.swapcase()\n",
    "print(name.lower())"
   ]
  },
  {
   "cell_type": "markdown",
   "metadata": {},
   "source": [
    "## Format string using format"
   ]
  },
  {
   "cell_type": "code",
   "execution_count": 3,
   "metadata": {},
   "outputs": [
    {
     "data": {
      "text/plain": [
       "'first comes before second'"
      ]
     },
     "execution_count": 3,
     "metadata": {},
     "output_type": "execute_result"
    }
   ],
   "source": [
    "'{} comes before {}'.format('first', 'second')"
   ]
  },
  {
   "cell_type": "code",
   "execution_count": 5,
   "metadata": {},
   "outputs": [
    {
     "data": {
      "text/plain": [
       "'second comes after first, but second comes before third'"
      ]
     },
     "execution_count": 5,
     "metadata": {},
     "output_type": "execute_result"
    }
   ],
   "source": [
    "# specify index numbers in the brackets to insert values in an order different than that in the argument list\n",
    "'{1} comes after {0}, but {1} comes before {2}'.format('first','second','third')"
   ]
  },
  {
   "cell_type": "code",
   "execution_count": 8,
   "metadata": {},
   "outputs": [
    {
     "data": {
      "text/plain": [
       "'Madagascar is an island.\\nMadagascar is off of the coast of\\nAfrica in the Indian Ocean\\n'"
      ]
     },
     "execution_count": 8,
     "metadata": {},
     "output_type": "execute_result"
    }
   ],
   "source": [
    "# An even more powerful feature is that the insert values can be specified by name\n",
    "'''{country} is an island.\n",
    "{country} is off of the coast of\n",
    "{continent} in the {ocean}\n",
    "'''.format(ocean='Indian Ocean',\n",
    "           continent='Africa',\n",
    "           country='Madagascar')"
   ]
  },
  {
   "cell_type": "code",
   "execution_count": 10,
   "metadata": {},
   "outputs": [
    {
     "data": {
      "text/plain": [
       "\"Won't you come home Bill Bailey?\""
      ]
     },
     "execution_count": 10,
     "metadata": {},
     "output_type": "execute_result"
    }
   ],
   "source": [
    "# dict works to supply the key values for name-based replacement fields\n",
    "values = {'first': 'Bill', 'last': 'Bailey'}\n",
    "\"Won't you come home {first} {last}?\".format(**values)"
   ]
  },
  {
   "cell_type": "markdown",
   "metadata": {},
   "source": [
    "### f-string\n",
    "In an f-string, however, the content of the replacement field is an expression. This approach means it can refer to variables defined in the current scope or involve calculations"
   ]
  },
  {
   "cell_type": "code",
   "execution_count": 12,
   "metadata": {},
   "outputs": [
    {
     "data": {
      "text/plain": [
       "'a is 1, b is 1. Adding them results in 2'"
      ]
     },
     "execution_count": 12,
     "metadata": {},
     "output_type": "execute_result"
    }
   ],
   "source": [
    "a = 1\n",
    "b = 1\n",
    "f\"a is {a}, b is {b}. Adding them results in {a + b}\""
   ]
  },
  {
   "cell_type": "markdown",
   "metadata": {},
   "source": [
    "## Dict\n",
    "- may be the most used of the Python built-in classes"
   ]
  },
  {
   "cell_type": "code",
   "execution_count": 13,
   "metadata": {},
   "outputs": [
    {
     "name": "stdout",
     "output_type": "stream",
     "text": [
      "key-4 not there\n"
     ]
    }
   ],
   "source": [
    "map = {'key-1': 'value-1', 'key-2': 'value-2' , 'key-3': 'value-3'}\n",
    "# Check if key exists in the dict\n",
    "if 'key-4' in map : \n",
    "    print(map['key-4'])\n",
    "else:\n",
    "    print('key-4 not there')\n",
    "\n"
   ]
  },
  {
   "cell_type": "code",
   "execution_count": 14,
   "metadata": {},
   "outputs": [
    {
     "data": {
      "text/plain": [
       "{'key-2': 'value-2', 'key-3': 'value-3'}"
      ]
     },
     "execution_count": 14,
     "metadata": {},
     "output_type": "execute_result"
    }
   ],
   "source": [
    "# Use del to remove a key-value pair from a dict\n",
    "del(map['key-1'])\n",
    "map"
   ]
  },
  {
   "cell_type": "code",
   "execution_count": 17,
   "metadata": {},
   "outputs": [
    {
     "name": "stdout",
     "output_type": "stream",
     "text": [
      "dict_keys(['key-2', 'key-3'])\n",
      "dict_values(['value-2', 'value-3'])\n",
      "key-2 and value-2\n",
      "key-3 and value-3\n"
     ]
    }
   ],
   "source": [
    "# keys(), values(), items()\n",
    "print(map.keys())\n",
    "print(map.values())\n",
    "for key, value in map.items():\n",
    "    print(f'{key} and {value}')"
   ]
  },
  {
   "cell_type": "markdown",
   "metadata": {},
   "source": [
    "## Function"
   ]
  },
  {
   "cell_type": "code",
   "execution_count": 18,
   "metadata": {},
   "outputs": [
    {
     "name": "stdout",
     "output_type": "stream",
     "text": [
      "6\n",
      "9\n"
     ]
    }
   ],
   "source": [
    "# Functions are objects. They can be passed around, or stored in data structures\n",
    "def double(input): \n",
    "    return input * 2\n",
    "\n",
    "def triple(input): \n",
    "    return input * 3\n",
    "\n",
    "functions = [double, triple]\n",
    "\n",
    "for f in functions: \n",
    "    print(f(3))"
   ]
  },
  {
   "cell_type": "markdown",
   "metadata": {},
   "source": [
    "### Anonymous Functions\n",
    "You should limit their use to situations where a function expects a small function as a argument"
   ]
  },
  {
   "cell_type": "code",
   "execution_count": 19,
   "metadata": {},
   "outputs": [
    {
     "data": {
      "text/plain": [
       "[[0, 'a', 2], [2, 'c', 1], [5, 'b', 0]]"
      ]
     },
     "execution_count": 19,
     "metadata": {},
     "output_type": "execute_result"
    }
   ],
   "source": [
    "# The default sorting mechanism compares based on the first item of each sublist\n",
    "items = [[0, 'a', 2], [5, 'b', 0], [2, 'c', 1]]\n",
    "sorted(items)"
   ]
  },
  {
   "cell_type": "code",
   "execution_count": 20,
   "metadata": {},
   "outputs": [
    {
     "data": {
      "text/plain": [
       "[[0, 'a', 2], [5, 'b', 0], [2, 'c', 1]]"
      ]
     },
     "execution_count": 20,
     "metadata": {},
     "output_type": "execute_result"
    }
   ],
   "source": [
    "# Sort based on the second entry\n",
    "def second(item):\n",
    "    '''return second entry'''\n",
    "    return item[1]\n",
    "\n",
    "sorted(items, key=second)"
   ]
  },
  {
   "cell_type": "code",
   "execution_count": 28,
   "metadata": {},
   "outputs": [
    {
     "data": {
      "text/plain": [
       "[[0, 'a', 2], [5, 'b', 0], [2, 'c', 1]]"
      ]
     },
     "execution_count": 28,
     "metadata": {},
     "output_type": "execute_result"
    }
   ],
   "source": [
    "# Same behaviors using lambda keywords\n",
    "sorted(items, key=lambda item: item[1])\n"
   ]
  },
  {
   "cell_type": "code",
   "execution_count": 27,
   "metadata": {},
   "outputs": [
    {
     "data": {
      "text/plain": [
       "[[5, 'b', 0], [2, 'c', 1], [0, 'a', 2]]"
      ]
     },
     "execution_count": 27,
     "metadata": {},
     "output_type": "execute_result"
    }
   ],
   "source": [
    "# Sort based on the third entry using lambda\n",
    "sorted(items, key=lambda item: item[2])"
   ]
  },
  {
   "cell_type": "markdown",
   "metadata": {},
   "source": [
    "## Using Regular Expressions"
   ]
  },
  {
   "cell_type": "code",
   "execution_count": 30,
   "metadata": {},
   "outputs": [
    {
     "name": "stdout",
     "output_type": "stream",
     "text": [
      "\n",
      "Ezra Koenig <ekoenig@vpwk.com>,\n",
      "Rostam Batmanglij <rostam@vpwk.com>,\n",
      "Chris Tomson <ctomson@vpwk.com,\n",
      "Bobbi Baio <bbaio@vpwk.com\n",
      "\n"
     ]
    }
   ],
   "source": [
    "cc_list = '''\n",
    "Ezra Koenig <ekoenig@vpwk.com>,\n",
    "Rostam Batmanglij <rostam@vpwk.com>,\n",
    "Chris Tomson <ctomson@vpwk.com,\n",
    "Bobbi Baio <bbaio@vpwk.com\n",
    "'''\n",
    "print(cc_list)"
   ]
  },
  {
   "cell_type": "code",
   "execution_count": 31,
   "metadata": {},
   "outputs": [
    {
     "data": {
      "text/plain": [
       "True"
      ]
     },
     "execution_count": 31,
     "metadata": {},
     "output_type": "execute_result"
    }
   ],
   "source": [
    "# whether a name is in this text\n",
    "'Rostam' in cc_list"
   ]
  },
  {
   "cell_type": "code",
   "execution_count": 32,
   "metadata": {},
   "outputs": [
    {
     "data": {
      "text/plain": [
       "<re.Match object; span=(33, 39), match='Rostam'>"
      ]
     },
     "execution_count": 32,
     "metadata": {},
     "output_type": "execute_result"
    }
   ],
   "source": [
    "# Similar behavior using regex\n",
    "import re\n",
    "\n",
    "re.search(r'Rostam', cc_list)"
   ]
  },
  {
   "cell_type": "code",
   "execution_count": 33,
   "metadata": {},
   "outputs": [
    {
     "data": {
      "text/plain": [
       "<re.Match object; span=(102, 107), match='Bobbi'>"
      ]
     },
     "execution_count": 33,
     "metadata": {},
     "output_type": "execute_result"
    }
   ],
   "source": [
    "# match on B or R, followed by obb, and either i or y\n",
    "re.search(r'[RB]obb[yi]', cc_list)"
   ]
  },
  {
   "cell_type": "code",
   "execution_count": 34,
   "metadata": {},
   "outputs": [
    {
     "data": {
      "text/plain": [
       "<re.Match object; span=(70, 75), match='Chris'>"
      ]
     },
     "execution_count": 34,
     "metadata": {},
     "output_type": "execute_result"
    }
   ],
   "source": [
    "# range serach\n",
    "re.search(r'Chr[a-z][a-z]', cc_list)"
   ]
  },
  {
   "cell_type": "code",
   "execution_count": 36,
   "metadata": {},
   "outputs": [
    {
     "name": "stdout",
     "output_type": "stream",
     "text": [
      "<re.Match object; span=(1, 5), match='Ezra'>\n",
      "<re.Match object; span=(6, 12), match='Koenig'>\n"
     ]
    }
   ],
   "source": [
    "# The + after an item in a regular expression matches one or more of that item. \n",
    "# A number in brackets matches an exact number of characters\n",
    "print(re.search(r'[A-Za-z]+', cc_list))\n",
    "print(re.search(r'[A-Za-z]{6}', cc_list))"
   ]
  },
  {
   "cell_type": "markdown",
   "metadata": {},
   "source": [
    "### Character Class\n",
    "In addition to character sets, Python’s re offers character classes. These are premade character sets. Some commonly used ones are \\w, which is equivalent to [a-zA-Z0-9_] and \\d, which is equivalent to [0-9]. You can use the + modifier to match for multiple characters"
   ]
  },
  {
   "cell_type": "code",
   "execution_count": 37,
   "metadata": {},
   "outputs": [
    {
     "data": {
      "text/plain": [
       "<re.Match object; span=(1, 5), match='Ezra'>"
      ]
     },
     "execution_count": 37,
     "metadata": {},
     "output_type": "execute_result"
    }
   ],
   "source": [
    "re.search(r'\\w+', cc_list)"
   ]
  },
  {
   "cell_type": "code",
   "execution_count": 38,
   "metadata": {},
   "outputs": [
    {
     "data": {
      "text/plain": [
       "<re.Match object; span=(14, 30), match='ekoenig@vpwk.com'>"
      ]
     },
     "execution_count": 38,
     "metadata": {},
     "output_type": "execute_result"
    }
   ],
   "source": [
    "# you can replace our primative email matcher with \\w\n",
    "re.search(r'\\w+\\@\\w+\\.\\w+', cc_list)"
   ]
  },
  {
   "cell_type": "code",
   "execution_count": 40,
   "metadata": {},
   "outputs": [
    {
     "name": "stdout",
     "output_type": "stream",
     "text": [
      "ekoenig@vpwk.com\n",
      "ekoenig\n",
      "vpwk\n",
      "com\n"
     ]
    }
   ],
   "source": [
    "# Using groups with the character class\n",
    "matched = re.search(r'(\\w+)\\@(\\w+)\\.(\\w+)', cc_list)\n",
    "print(matched.group(0))\n",
    "print(matched.group(1))\n",
    "print(matched.group(2))\n",
    "print(matched.group(3))"
   ]
  },
  {
   "cell_type": "code",
   "execution_count": 42,
   "metadata": {},
   "outputs": [
    {
     "name": "stdout",
     "output_type": "stream",
     "text": [
      "name: ekoenig\n",
      "Secondary Level Domain: vpwk\n",
      "Top Level Domain: com\n"
     ]
    }
   ],
   "source": [
    "# You can also supply names for the groups by adding ?P<NAME> in the group definition.\n",
    "matched = re.search(r'(?P<name>\\w+)\\@(?P<SLD>\\w+)\\.(?P<TLD>\\w+)', cc_list)\n",
    "print(f'''name: {matched.group(\"name\")}\n",
    "Secondary Level Domain: {matched.group(\"SLD\")}\n",
    "Top Level Domain: {matched.group(\"TLD\")}''')"
   ]
  },
  {
   "cell_type": "code",
   "execution_count": 43,
   "metadata": {},
   "outputs": [
    {
     "name": "stdout",
     "output_type": "stream",
     "text": [
      "['ekoenig@vpwk.com', 'rostam@vpwk.com', 'ctomson@vpwk.com', 'bbaio@vpwk.com']\n"
     ]
    }
   ],
   "source": [
    "# return all of the matches as a list of strings\n",
    "matched = re.findall(r'\\w+\\@\\w+\\.\\w+', cc_list)\n",
    "print(matched)"
   ]
  },
  {
   "cell_type": "code",
   "execution_count": 44,
   "metadata": {},
   "outputs": [
    {
     "data": {
      "text/plain": [
       "'The passcode you entered was  #####'"
      ]
     },
     "execution_count": 44,
     "metadata": {},
     "output_type": "execute_result"
    }
   ],
   "source": [
    "# Substitution\n",
    "re.sub(\"\\d\", \"#\", \"The passcode you entered was  09876\")"
   ]
  },
  {
   "cell_type": "code",
   "execution_count": 46,
   "metadata": {},
   "outputs": [
    {
     "name": "stdout",
     "output_type": "stream",
     "text": [
      "\n",
      "Ezra Koenig <com.vpwk.ekoenig>,\n",
      "Rostam Batmanglij <com.vpwk.rostam>,\n",
      "Chris Tomson <com.vpwk.ctomson,\n",
      "Bobbi Baio <com.vpwk.bbaio\n",
      "\n"
     ]
    }
   ],
   "source": [
    "users = re.sub(\"(?P<name>\\w+)\\@(?P<SLD>\\w+)\\.(?P<TLD>\\w+)\",\n",
    "                   \"\\g<TLD>.\\g<SLD>.\\g<name>\", cc_list)\n",
    "print(users)"
   ]
  },
  {
   "cell_type": "markdown",
   "metadata": {},
   "source": [
    "### Compiling \n",
    "All of the examples so far have called methods on the re module directly. This is adequate for many cases, but if the same match is going to happen many times, performance gains can be had by compiling the regular expression into an object. This object can be reused for matches without recompiling"
   ]
  },
  {
   "cell_type": "code",
   "execution_count": 47,
   "metadata": {},
   "outputs": [
    {
     "data": {
      "text/plain": [
       "<re.Match object; span=(14, 30), match='ekoenig@vpwk.com'>"
      ]
     },
     "execution_count": 47,
     "metadata": {},
     "output_type": "execute_result"
    }
   ],
   "source": [
    "regex = re.compile(r'\\w+\\@\\w+\\.\\w+')\n",
    "regex.search(cc_list)"
   ]
  },
  {
   "cell_type": "markdown",
   "metadata": {},
   "source": [
    "## Lazy Evaluation\n",
    "Lazy evaluation is the idea that, especially when dealing with large amounts of data, you do not want process all of the data before using the results."
   ]
  },
  {
   "cell_type": "markdown",
   "metadata": {},
   "source": [
    "### Generator\n",
    "To write a generator function, use the yield keyword rather than a return statement."
   ]
  },
  {
   "cell_type": "code",
   "execution_count": 48,
   "metadata": {},
   "outputs": [],
   "source": [
    "def count():\n",
    "    n = 0 \n",
    "    while True: \n",
    "        n += 1 \n",
    "        yield n\n",
    "\n",
    "counter = count()"
   ]
  },
  {
   "cell_type": "code",
   "execution_count": 51,
   "metadata": {},
   "outputs": [
    {
     "name": "stdout",
     "output_type": "stream",
     "text": [
      "4\n",
      "5\n",
      "6\n",
      "7\n"
     ]
    }
   ],
   "source": [
    "print(next(counter))\n",
    "print(next(counter))\n",
    "print(next(counter))\n",
    "print(next(counter))"
   ]
  },
  {
   "cell_type": "code",
   "execution_count": 53,
   "metadata": {},
   "outputs": [
    {
     "name": "stdout",
     "output_type": "stream",
     "text": [
      "1\n",
      "1\n",
      "2\n",
      "3\n",
      "5\n",
      "8\n",
      "13\n"
     ]
    }
   ],
   "source": [
    "# Let’s implement a Fibonacci generator\n",
    "def fib():\n",
    "    first, last = 0, 1 \n",
    "    while True:\n",
    "        first, last = last, first + last \n",
    "        yield first\n",
    "\n",
    "f = fib()\n",
    "for x in f: \n",
    "    print(x)\n",
    "    if x > 12 : \n",
    "        break"
   ]
  },
  {
   "cell_type": "markdown",
   "metadata": {},
   "source": [
    "### Generator Comprehensions\n",
    "We can use generator comprehensions to create one-line generators. They are created using a syntax similar to list comprehensions, but parentheses are used rather than square brackets:"
   ]
  },
  {
   "cell_type": "code",
   "execution_count": 54,
   "metadata": {},
   "outputs": [
    {
     "name": "stdout",
     "output_type": "stream",
     "text": [
      "[0, 1, 2, 3, 4, 5, 6, 7, 8, 9, 10, 11, 12, 13, 14, 15, 16, 17, 18, 19, 20, 21, 22, 23, 24, 25, 26, 27, 28, 29, 30, 31, 32, 33, 34, 35, 36, 37, 38, 39, 40, 41, 42, 43, 44, 45, 46, 47, 48, 49, 50, 51, 52, 53, 54, 55, 56, 57, 58, 59, 60, 61, 62, 63, 64, 65, 66, 67, 68, 69, 70, 71, 72, 73, 74, 75, 76, 77, 78, 79, 80, 81, 82, 83, 84, 85, 86, 87, 88, 89, 90, 91, 92, 93, 94, 95, 96, 97, 98, 99]\n",
      "<generator object <genexpr> at 0x10d319150>\n"
     ]
    }
   ],
   "source": [
    "list_o_nums = [x for x in range(100)]\n",
    "gen_o_nums = (x for x in range(100))\n",
    "print(list_o_nums)\n",
    "print(gen_o_nums)"
   ]
  },
  {
   "cell_type": "code",
   "execution_count": 56,
   "metadata": {},
   "outputs": [
    {
     "name": "stdout",
     "output_type": "stream",
     "text": [
      "920\n",
      "104\n"
     ]
    }
   ],
   "source": [
    "# Even with this small example, we can see the difference \n",
    "# in memory used by using the sys.getsizeof method, which \n",
    "# returns the size of an object, in bytes\n",
    "import sys \n",
    "print(sys.getsizeof(list_o_nums))\n",
    "print(sys.getsizeof(gen_o_nums))"
   ]
  },
  {
   "cell_type": "markdown",
   "metadata": {},
   "source": [
    "## Using IPython to Run Unix Shell Commands"
   ]
  },
  {
   "cell_type": "code",
   "execution_count": 58,
   "metadata": {},
   "outputs": [
    {
     "data": {
      "text/plain": [
       "IPython.utils.text.SList"
      ]
     },
     "execution_count": 58,
     "metadata": {},
     "output_type": "execute_result"
    }
   ],
   "source": [
    "var_ls = !ls -l\n",
    "type(var_ls)"
   ]
  },
  {
   "cell_type": "code",
   "execution_count": 60,
   "metadata": {},
   "outputs": [
    {
     "data": {
      "text/plain": [
       "['Filesystem     512-blocks      Used Available Capacity iused     ifree %iused  Mounted on',\n",
       " 'map auto_home           0         0         0   100%       0         0  100%   /System/Volumes/Data/home',\n",
       " '/dev/disk3s6    478724992        40  82672032     1%       0 413360160    0%   /System/Volumes/VM',\n",
       " 'devfs                 398       398         0   100%     692         0  100%   /dev',\n",
       " '/dev/disk1s3      1024000      1512    987720     1%      60   4938600    0%   /System/Volumes/Hardware',\n",
       " '/dev/disk1s2      1024000     12328    987720     2%       1   4938600    0%   /System/Volumes/xarts',\n",
       " '/dev/disk1s1      1024000     12720    987720     2%      30   4938600    0%   /System/Volumes/iSCPreboot',\n",
       " '/dev/disk3s4    478724992     22696  82672032     1%      43 413360160    0%   /System/Volumes/Update',\n",
       " '/dev/disk3s2    478724992   9258840  82672032    11%     854 413360160    0%   /System/Volumes/Preboot',\n",
       " '/dev/disk3s1s1  478724992  17703584  82672032    18%  355382 413360160    0%   /',\n",
       " '/dev/disk3s5    478724992 367238376  82672032    82% 2732360 413360160    1%   /System/Volumes/Data']"
      ]
     },
     "execution_count": 60,
     "metadata": {},
     "output_type": "execute_result"
    }
   ],
   "source": [
    "df = !df\n",
    "df.sort(2, nums = True)"
   ]
  },
  {
   "cell_type": "code",
   "execution_count": 64,
   "metadata": {},
   "outputs": [
    {
     "name": "stdout",
     "output_type": "stream",
     "text": [
      "['-rwxr-xr-x   1 root   wheel      1621 Jun 15 19:08 \\x1b[31mkill.d\\x1b[m\\x1b[m', '-rwxr-xr-x   1 root   wheel    135408 Jun 15 19:08 \\x1b[31mkillall\\x1b[m\\x1b[m', '-rwxr-xr-x   2 root   wheel    170800 Jun 15 19:08 \\x1b[31mpkill\\x1b[m\\x1b[m']\n"
     ]
    }
   ],
   "source": [
    "ls = !ls -l /usr/bin\n",
    "print(ls.grep('kill'))"
   ]
  },
  {
   "cell_type": "markdown",
   "metadata": {},
   "source": [
    "## Using IPython magic commands\n",
    "If you get in the habit of using IPython, you should also get in the habit of using built-in magic commands. They are essentially shortcuts that pack a big punch. Magic commands are indicated by prepending them with %%"
   ]
  },
  {
   "cell_type": "code",
   "execution_count": 65,
   "metadata": {},
   "outputs": [
    {
     "name": "stdout",
     "output_type": "stream",
     "text": [
      "Darwin hyeonjinhwans-MacBook-Air.local 22.5.0 Darwin Kernel Version 22.5.0: Thu Jun  8 22:21:34 PDT 2023; root:xnu-8796.121.3~7/RELEASE_ARM64_T8112 arm64\n"
     ]
    }
   ],
   "source": [
    "%%bash\n",
    "uname -a"
   ]
  },
  {
   "cell_type": "markdown",
   "metadata": {},
   "source": [
    "The %%writefile is pretty tricky because you can write and test Python or Bash scripts on the fly, using IPython to execute them. That’s not a bad party trick at all:"
   ]
  },
  {
   "cell_type": "code",
   "execution_count": 66,
   "metadata": {},
   "outputs": [
    {
     "name": "stdout",
     "output_type": "stream",
     "text": [
      "Writing print_time.py\n"
     ]
    }
   ],
   "source": [
    "%%writefile print_time.py\n",
    "#!/usr/bin/env python\n",
    "import datetime \n",
    "print(datetime.datetime.now().time())"
   ]
  },
  {
   "cell_type": "code",
   "execution_count": 67,
   "metadata": {},
   "outputs": [
    {
     "name": "stdout",
     "output_type": "stream",
     "text": [
      "#!/usr/bin/env python\n",
      "import datetime \n",
      "print(datetime.datetime.now().time())\n"
     ]
    }
   ],
   "source": [
    "cat print_time.py"
   ]
  },
  {
   "cell_type": "code",
   "execution_count": 68,
   "metadata": {},
   "outputs": [
    {
     "name": "stdout",
     "output_type": "stream",
     "text": [
      "23:42:12.723083\n"
     ]
    }
   ],
   "source": [
    "!python print_time.py"
   ]
  },
  {
   "cell_type": "code",
   "execution_count": 69,
   "metadata": {},
   "outputs": [
    {
     "name": "stdout",
     "output_type": "stream",
     "text": [
      "a\t b\t cc_list\t count\t counter\t df\t double\t f\t fib\t \n",
      "functions\t gen_o_nums\t items\t key\t list_o_nums\t ls\t map\t matched\t re\t \n",
      "regex\t second\t sys\t triple\t users\t value\t values\t var_ls\t x\t \n",
      "\n"
     ]
    }
   ],
   "source": [
    "# Another very useful command, %who, will show you what is loaded into memory\n",
    "%who"
   ]
  },
  {
   "cell_type": "code",
   "execution_count": null,
   "metadata": {},
   "outputs": [],
   "source": []
  }
 ],
 "metadata": {
  "kernelspec": {
   "display_name": "base",
   "language": "python",
   "name": "python3"
  },
  "language_info": {
   "codemirror_mode": {
    "name": "ipython",
    "version": 3
   },
   "file_extension": ".py",
   "mimetype": "text/x-python",
   "name": "python",
   "nbconvert_exporter": "python",
   "pygments_lexer": "ipython3",
   "version": "3.10.9"
  },
  "orig_nbformat": 4
 },
 "nbformat": 4,
 "nbformat_minor": 2
}
