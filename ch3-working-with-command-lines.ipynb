{
 "cells": [
  {
   "cell_type": "markdown",
   "metadata": {},
   "source": [
    "# Working with the Command Line"
   ]
  },
  {
   "cell_type": "markdown",
   "metadata": {},
   "source": [
    "## Working with the Shell"
   ]
  },
  {
   "cell_type": "code",
   "execution_count": 1,
   "metadata": {},
   "outputs": [
    {
     "name": "stdout",
     "output_type": "stream",
     "text": [
      "All is good\n"
     ]
    }
   ],
   "source": [
    "# The sys module offers access to variables and methods closely tied to the Python interpreter\n",
    "import sys\n",
    "\n",
    "if sys.version_info.major < 3 : \n",
    "  print(\"You need to update your Python version\")\n",
    "elif sys.version_info.minor < 7:\n",
    "  print(\"You are not running the latest version of Python\")\n",
    "else: \n",
    "  print(\"All is good\")"
   ]
  },
  {
   "cell_type": "markdown",
   "metadata": {},
   "source": [
    "### Dealing with the Operating System Using the os Module"
   ]
  },
  {
   "cell_type": "code",
   "execution_count": 3,
   "metadata": {},
   "outputs": [
    {
     "name": "stdout",
     "output_type": "stream",
     "text": [
      "/Users/jinhwan/Repositories/Notebooks/Books/python-for-devops\n",
      "/private/tmp\n"
     ]
    }
   ],
   "source": [
    "\n",
    "import os\n",
    "\n",
    "print(os.getcwd())\n",
    "os.chdir('/tmp')\n",
    "print(os.getcwd())\n"
   ]
  },
  {
   "cell_type": "code",
   "execution_count": 5,
   "metadata": {},
   "outputs": [
    {
     "data": {
      "text/plain": [
       "'DEBUG'"
      ]
     },
     "execution_count": 5,
     "metadata": {},
     "output_type": "execute_result"
    }
   ],
   "source": [
    "os.environ.get('LOGLEVEL')\n",
    "os.environ['LOGLEVEL'] = 'DEBUG'\n",
    "os.environ.get('LOGLEVEL')"
   ]
  },
  {
   "cell_type": "markdown",
   "metadata": {},
   "source": [
    "### Spawn Processes with the subprocess Module"
   ]
  },
  {
   "cell_type": "code",
   "execution_count": 9,
   "metadata": {},
   "outputs": [
    {
     "name": "stdout",
     "output_type": "stream",
     "text": [
      "total 40\n",
      "-rw-rw-rw-  1 jinhwan  wheel      0 Aug  4 08:35 30A0A2F4-CFAD-48B0-B590-4DEF623993BE-vpndownloader\n",
      "drwxr-xr-x  3 root     wheel     96 Jun 23 00:20 MacSpoolerService\n",
      "prwx------  1 root     wheel      0 Jun 23 00:20 clr-debug-pipe-524-1687447231-in\n",
      "prwx------  1 root     wheel      0 Jun 23 00:20 clr-debug-pipe-524-1687447231-out\n",
      "prwx------  1 root     wheel      0 Jun 24 00:09 clr-debug-pipe-74775-1687532977-in\n",
      "prwx------  1 root     wheel      0 Jun 24 00:09 clr-debug-pipe-74775-1687532977-out\n",
      "drwx------  3 jinhwan  wheel     96 Jun 23 00:20 com.apple.launchd.QqBlgKoGMp\n",
      "drwxr-xr-x@ 4 jinhwan  wheel    128 Jul 31 21:20 com.google.Keystone\n",
      "srw-rw-rw-  1 root     wheel      0 Jun 23 00:20 com.pharos.PrintAgent.sock\n",
      "srw-------  1 root     wheel      0 Jun 23 00:20 dotnet-diagnostic-524-1687447231-socket\n",
      "srw-------  1 root     wheel      0 Jun 24 00:09 dotnet-diagnostic-74775-1687532977-socket\n",
      "srwx------  1 jinhwan  wheel      0 Jun 23 00:20 mongodb-27017.sock\n",
      "srwxrwxrwx  1 jinhwan  wheel      0 Jun 23 00:20 mysql.sock\n",
      "srwxrwxrwx  1 jinhwan  wheel      0 Jun 23 00:20 mysqlx.sock\n",
      "-rw-------  1 root     wheel  16388 Aug  4 01:12 paragon-uc-cache.log\n",
      "\n"
     ]
    }
   ],
   "source": [
    "import subprocess\n",
    "\n",
    "cp = subprocess.run(['ls', '-l'], \n",
    "                     capture_output=True,\n",
    "                     universal_newlines=True)\n",
    "\n",
    "print(cp.stdout)"
   ]
  },
  {
   "cell_type": "code",
   "execution_count": 10,
   "metadata": {},
   "outputs": [
    {
     "data": {
      "text/plain": [
       "'ls: /doesnotexist: No such file or directory\\n'"
      ]
     },
     "execution_count": 10,
     "metadata": {},
     "output_type": "execute_result"
    }
   ],
   "source": [
    "cp = subprocess.run(['ls','/doesnotexist'],\n",
    "                            capture_output=True,\n",
    "                            universal_newlines=True)\n",
    "\n",
    "cp.stderr"
   ]
  },
  {
   "cell_type": "code",
   "execution_count": 11,
   "metadata": {},
   "outputs": [
    {
     "ename": "CalledProcessError",
     "evalue": "Command '['ls', '/doesnotexist']' returned non-zero exit status 1.",
     "output_type": "error",
     "traceback": [
      "\u001b[0;31m---------------------------------------------------------------------------\u001b[0m",
      "\u001b[0;31mCalledProcessError\u001b[0m                        Traceback (most recent call last)",
      "\u001b[1;32m/Users/jinhwan/Repositories/Notebooks/Books/python-for-devops/ch3-working-with-command-lines.ipynb Cell 10\u001b[0m in \u001b[0;36m<cell line: 1>\u001b[0;34m()\u001b[0m\n\u001b[0;32m----> <a href='vscode-notebook-cell:/Users/jinhwan/Repositories/Notebooks/Books/python-for-devops/ch3-working-with-command-lines.ipynb#X16sZmlsZQ%3D%3D?line=0'>1</a>\u001b[0m cp \u001b[39m=\u001b[39m subprocess\u001b[39m.\u001b[39;49mrun([\u001b[39m'\u001b[39;49m\u001b[39mls\u001b[39;49m\u001b[39m'\u001b[39;49m,\u001b[39m'\u001b[39;49m\u001b[39m/doesnotexist\u001b[39;49m\u001b[39m'\u001b[39;49m],\n\u001b[1;32m      <a href='vscode-notebook-cell:/Users/jinhwan/Repositories/Notebooks/Books/python-for-devops/ch3-working-with-command-lines.ipynb#X16sZmlsZQ%3D%3D?line=1'>2</a>\u001b[0m                             capture_output\u001b[39m=\u001b[39;49m\u001b[39mTrue\u001b[39;49;00m,\n\u001b[1;32m      <a href='vscode-notebook-cell:/Users/jinhwan/Repositories/Notebooks/Books/python-for-devops/ch3-working-with-command-lines.ipynb#X16sZmlsZQ%3D%3D?line=2'>3</a>\u001b[0m                             universal_newlines\u001b[39m=\u001b[39;49m\u001b[39mTrue\u001b[39;49;00m,\n\u001b[1;32m      <a href='vscode-notebook-cell:/Users/jinhwan/Repositories/Notebooks/Books/python-for-devops/ch3-working-with-command-lines.ipynb#X16sZmlsZQ%3D%3D?line=3'>4</a>\u001b[0m                             check\u001b[39m=\u001b[39;49m\u001b[39mTrue\u001b[39;49;00m)\n",
      "File \u001b[0;32m~/opt/anaconda3/lib/python3.9/subprocess.py:528\u001b[0m, in \u001b[0;36mrun\u001b[0;34m(input, capture_output, timeout, check, *popenargs, **kwargs)\u001b[0m\n\u001b[1;32m    526\u001b[0m     retcode \u001b[39m=\u001b[39m process\u001b[39m.\u001b[39mpoll()\n\u001b[1;32m    527\u001b[0m     \u001b[39mif\u001b[39;00m check \u001b[39mand\u001b[39;00m retcode:\n\u001b[0;32m--> 528\u001b[0m         \u001b[39mraise\u001b[39;00m CalledProcessError(retcode, process\u001b[39m.\u001b[39margs,\n\u001b[1;32m    529\u001b[0m                                  output\u001b[39m=\u001b[39mstdout, stderr\u001b[39m=\u001b[39mstderr)\n\u001b[1;32m    530\u001b[0m \u001b[39mreturn\u001b[39;00m CompletedProcess(process\u001b[39m.\u001b[39margs, retcode, stdout, stderr)\n",
      "\u001b[0;31mCalledProcessError\u001b[0m: Command '['ls', '/doesnotexist']' returned non-zero exit status 1."
     ]
    }
   ],
   "source": [
    "cp = subprocess.run(['ls','/doesnotexist'],\n",
    "                            capture_output=True,\n",
    "                            universal_newlines=True,\n",
    "                            check=True)"
   ]
  },
  {
   "cell_type": "markdown",
   "metadata": {},
   "source": [
    "## Creating Command-Line Tools"
   ]
  },
  {
   "cell_type": "markdown",
   "metadata": {},
   "source": []
  }
 ],
 "metadata": {
  "kernelspec": {
   "display_name": "base",
   "language": "python",
   "name": "python3"
  },
  "language_info": {
   "codemirror_mode": {
    "name": "ipython",
    "version": 3
   },
   "file_extension": ".py",
   "mimetype": "text/x-python",
   "name": "python",
   "nbconvert_exporter": "python",
   "pygments_lexer": "ipython3",
   "version": "3.9.12"
  },
  "orig_nbformat": 4
 },
 "nbformat": 4,
 "nbformat_minor": 2
}
